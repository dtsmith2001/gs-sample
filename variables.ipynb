{
 "cells": [
  {
   "cell_type": "markdown",
   "metadata": {},
   "source": [
    "# Continuous, Categorial, and Ordinal Variables\n",
    "\n",
    "Three types of variables are used, particularly in linear regression.\n",
    "\n",
    "1. Continuous - ordered and can be subdivided.\n",
    "2. Categorical - limited and fixed number of values.\n",
    "3. Ordinal - limited and fixed number of values for which order is important.\n",
    "\n",
    "Categorical variables are sometimes referred to as *levels*. They are often called [*dummy variables*](https://en.wikipedia.org/wiki/Dummy_variable_(statistics)) in the statistics literature and indicate membership in a category.\n",
    "\n",
    "The actual numbers for categorical variables do not matter. For instance, we can encode quarters as\n",
    "\n",
    "- 1 Quarter (1)\n",
    "- 2 Quarter (2)\n",
    "- 3 Quarter (3)\n",
    "- 4 Quarter (4)\n",
    "\n",
    "or\n",
    "\n",
    "- 1 Quarter (0)\n",
    "- 2 Quarter (1)\n",
    "- 3 Quarter (2)\n",
    "- 4 Quarter (3)\n",
    "\n",
    "or\n",
    "\n",
    "- 1 Quarter (1 or 0)\n",
    "- 2 Quarter (1 or 0)\n",
    "- 3 Quarter (1 or 0)\n",
    "- 4 Quarter (1 or 0)\n",
    "\n",
    "In a linear regression model, encoding zero means the variable has no effect. Encoding one only affects the *intercept*.\n",
    "\n",
    "Other types of models *require* all four dummy variables. For instance, decision trees (later).\n",
    "\n",
    "## Differences in Languages (Packages)\n",
    "\n",
    "We have to encode variables for use in `scikit-learn` as the package only takes numeric categories. `R` takes \"levels\" and encodes internally. So you can pass strings as categories to models in `R`, but not in `scikit-learn`.\n",
    "\n",
    "Your data cleaning and preparation step may include taking strings in a column and transforming them into a numeric category or level.\n",
    "\n",
    "## Categorical Variables and Linear Models\n",
    "\n",
    "In models such as regression, which are linear in the unknown variables, we can't include all categorical variables. If we have four dummy variables for quarter, we must only include three of them.\n",
    "\n",
    "- 1 Quarter = 1 or 0\n",
    "- 2 Quarter = 1 or 0\n",
    "- 3 Quarter = 1 or 0\n",
    "- 4 Quarter = 1 or 0\n",
    "\n",
    "Encoding zero for quarter 1 - 3 is the same as encoding a 1 for quarter 4 and the rest zero. Remember, linear regression has an *intercept*, which is why we can't use four dummy variables.\n",
    "\n",
    "The dummy variable that is omitted is the base category against which all others are compared.\n",
    "\n",
    "For instance\n",
    "\n",
    "&nbsp;&nbsp;&nbsp;&nbsp;&nbsp;&nbsp;&nbsp;&nbsp;&nbsp;&nbsp;&nbsp;&nbsp;&nbsp;&nbsp;&nbsp;&nbsp;$ln(\\tt{wage}) = \\alpha + \\beta \\tt{college} + \\tt{error}$\n",
    "\n",
    "Here we set up a regression problem with `college` as one or zero. If `college` is one, then the wage goes up (assuming $\\beta > 0$). So we can interpret the significance of the `college` variable as measuring a wage premium/discount for attending college.\n",
    "\n",
    "The `error` term contains\n",
    "\n",
    "1. Every variable not included in the regression model.\n",
    "2. Randomness.\n",
    "\n",
    "This model is not *predictive* but is *explanatory*.\n",
    "\n",
    "Questions\n",
    "\n",
    "1. Why am I taking the natural log of `wage`?\n",
    "2. What happens if $\\beta < 0$?\n",
    "3. We encoded `college` as zero or one. Why not one and two?\n",
    "\n",
    "Including all dummy variables in a regression model introduces [*multicollinearity*](https://en.wikipedia.org/wiki/Multicollinearity) and can cause all kinds of problems for predictions.\n",
    "\n",
    "## Transforming variables in Pandas"
   ]
  },
  {
   "cell_type": "code",
   "execution_count": 1,
   "metadata": {
    "collapsed": true
   },
   "outputs": [],
   "source": [
    "import numpy as np\n",
    "import pandas as pd"
   ]
  },
  {
   "cell_type": "code",
   "execution_count": 8,
   "metadata": {
    "collapsed": false
   },
   "outputs": [
    {
     "data": {
      "text/html": [
       "<div>\n",
       "<table border=\"1\" class=\"dataframe\">\n",
       "  <thead>\n",
       "    <tr style=\"text-align: right;\">\n",
       "      <th></th>\n",
       "      <th>value</th>\n",
       "    </tr>\n",
       "  </thead>\n",
       "  <tbody>\n",
       "    <tr>\n",
       "      <th>0</th>\n",
       "      <td>25</td>\n",
       "    </tr>\n",
       "    <tr>\n",
       "      <th>1</th>\n",
       "      <td>36</td>\n",
       "    </tr>\n",
       "    <tr>\n",
       "      <th>2</th>\n",
       "      <td>34</td>\n",
       "    </tr>\n",
       "  </tbody>\n",
       "</table>\n",
       "</div>"
      ],
      "text/plain": [
       "   value\n",
       "0     25\n",
       "1     36\n",
       "2     34"
      ]
     },
     "execution_count": 8,
     "metadata": {},
     "output_type": "execute_result"
    }
   ],
   "source": [
    "df = pd.DataFrame( {'value': np.random.randint(0, 100, 20)} )\n",
    "df.head(3)"
   ]
  },
  {
   "cell_type": "code",
   "execution_count": 3,
   "metadata": {
    "collapsed": true
   },
   "outputs": [],
   "source": [
    "labels = [ \"{0} - {1}\".format(i, i + 9) for i in range(0, 100, 10) ]"
   ]
  },
  {
   "cell_type": "code",
   "execution_count": 4,
   "metadata": {
    "collapsed": false
   },
   "outputs": [
    {
     "data": {
      "text/plain": [
       "['0 - 9',\n",
       " '10 - 19',\n",
       " '20 - 29',\n",
       " '30 - 39',\n",
       " '40 - 49',\n",
       " '50 - 59',\n",
       " '60 - 69',\n",
       " '70 - 79',\n",
       " '80 - 89',\n",
       " '90 - 99']"
      ]
     },
     "execution_count": 4,
     "metadata": {},
     "output_type": "execute_result"
    }
   ],
   "source": [
    "labels"
   ]
  },
  {
   "cell_type": "code",
   "execution_count": 10,
   "metadata": {
    "collapsed": true
   },
   "outputs": [],
   "source": [
    "df['group'] = pd.cut(df.value, range(0, 105, 10), right=False, labels=labels)"
   ]
  },
  {
   "cell_type": "code",
   "execution_count": 11,
   "metadata": {
    "collapsed": false
   },
   "outputs": [
    {
     "data": {
      "text/html": [
       "<div>\n",
       "<table border=\"1\" class=\"dataframe\">\n",
       "  <thead>\n",
       "    <tr style=\"text-align: right;\">\n",
       "      <th></th>\n",
       "      <th>value</th>\n",
       "      <th>group</th>\n",
       "    </tr>\n",
       "  </thead>\n",
       "  <tbody>\n",
       "    <tr>\n",
       "      <th>0</th>\n",
       "      <td>25</td>\n",
       "      <td>20 - 29</td>\n",
       "    </tr>\n",
       "    <tr>\n",
       "      <th>1</th>\n",
       "      <td>36</td>\n",
       "      <td>30 - 39</td>\n",
       "    </tr>\n",
       "    <tr>\n",
       "      <th>2</th>\n",
       "      <td>34</td>\n",
       "      <td>30 - 39</td>\n",
       "    </tr>\n",
       "  </tbody>\n",
       "</table>\n",
       "</div>"
      ],
      "text/plain": [
       "   value    group\n",
       "0     25  20 - 29\n",
       "1     36  30 - 39\n",
       "2     34  30 - 39"
      ]
     },
     "execution_count": 11,
     "metadata": {},
     "output_type": "execute_result"
    }
   ],
   "source": [
    "df.head(3)"
   ]
  },
  {
   "cell_type": "markdown",
   "metadata": {},
   "source": [
    "Read [*Getting Data in and Out*](http://pandas.pydata.org/pandas-docs/stable/categorical.html#getting-data-in-out) in the Pandas documentation for much more about categorical variables read from a file."
   ]
  }
 ],
 "metadata": {
  "kernelspec": {
   "display_name": "Python 3",
   "language": "python",
   "name": "python3"
  },
  "language_info": {
   "codemirror_mode": {
    "name": "ipython",
    "version": 3
   },
   "file_extension": ".py",
   "mimetype": "text/x-python",
   "name": "python",
   "nbconvert_exporter": "python",
   "pygments_lexer": "ipython3",
   "version": "3.5.1"
  }
 },
 "nbformat": 4,
 "nbformat_minor": 0
}
