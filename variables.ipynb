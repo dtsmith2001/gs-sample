{
 "cells": [
  {
   "cell_type": "markdown",
   "metadata": {},
   "source": [
    "# Continuous, Categorial, and Ordinal Variables\n",
    "\n",
    "Three types of variables are used, particularly in linear regression.\n",
    "\n",
    "1. Continuous - ordered and can be subdivided.\n",
    "2. Categorical - limited and fixed number of values.\n",
    "3. Ordinal - limited and fixed number of values for which order is important.\n",
    "\n",
    "Categorical variables are sometimes referred to as *levels*. They are often called *dummy variables* in the regression literature where we indicate membership in the category.\n",
    "\n",
    "The actual numbers for categorical variables do not matter. For instance, we can encode quarters as\n",
    "\n",
    "- 1 Quarter (1)\n",
    "- 2 Quarter (2)\n",
    "- 3 Quarter (3)\n",
    "- 4 Quarter (4)\n",
    "\n",
    "or\n",
    "\n",
    "- 1 Quarter (0)\n",
    "- 2 Quarter (1)\n",
    "- 3 Quarter (2)\n",
    "- 4 Quarter (3)\n",
    "\n",
    "or\n",
    "\n",
    "- 1 Quarter (1 or 0)\n",
    "- 2 Quarter (1 or 0)\n",
    "- 3 Quarter (1 or 0)\n",
    "- 4 Quarter (1 or 0)\n",
    "\n",
    "In a linear regression model, encoding zero means the variable has no effect. Encoding one only affects the *intercept*.\n",
    "\n",
    "Other models *require* all four dummy variables.\n",
    "\n",
    "## Differences in Languages (Packages)\n",
    "\n",
    "We have to encode variables for use in `scikit-learn` as the package only takes numeric categories. `R` takes \"levels\" and encodes internally.\n",
    "\n",
    "## Categorical Variables and Linear Models\n",
    "\n",
    "In models such as regression, which are linear in the unknown variables, we can't include all categorical variables. If we have four dummy variables for quarter, we must only include three of them.\n",
    "\n",
    "- 1 Quarter = 1 or 0\n",
    "- 2 Quarter = 1 or 0\n",
    "- 3 Quarter = 1 or 0\n",
    "- 4 Quarter = 1 or 0\n",
    "\n",
    "Encoding zero for quarter 1 - 3 is the same as encoding a 1 for quarter 4 and the rest zero. Remember, linear regression has an *intercept*, which is why we can't use four dummy variables.\n",
    "\n",
    "The dummy variable that is omitted is the base category against which all others are compared."
   ]
  },
  {
   "cell_type": "code",
   "execution_count": null,
   "metadata": {
    "collapsed": true
   },
   "outputs": [],
   "source": []
  }
 ],
 "metadata": {
  "kernelspec": {
   "display_name": "Python 3",
   "language": "python",
   "name": "python3"
  },
  "language_info": {
   "codemirror_mode": {
    "name": "ipython",
    "version": 3
   },
   "file_extension": ".py",
   "mimetype": "text/x-python",
   "name": "python",
   "nbconvert_exporter": "python",
   "pygments_lexer": "ipython3",
   "version": "3.5.1"
  }
 },
 "nbformat": 4,
 "nbformat_minor": 0
}
